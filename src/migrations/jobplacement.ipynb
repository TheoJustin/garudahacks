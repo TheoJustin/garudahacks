{
  "nbformat": 4,
  "nbformat_minor": 0,
  "metadata": {
    "colab": {
      "provenance": []
    },
    "kernelspec": {
      "name": "python3",
      "display_name": "Python 3"
    },
    "language_info": {
      "name": "python"
    }
  },
  "cells": [
    {
      "cell_type": "code",
      "source": [
        "%pip install pandas pinecone-client sentence-transformers openai"
      ],
      "metadata": {
        "id": "nK7Xn7BHFWsY"
      },
      "execution_count": null,
      "outputs": []
    },
    {
      "cell_type": "code",
      "source": [
        "%pip install openai"
      ],
      "metadata": {
        "id": "V08AEM5DG3Lh"
      },
      "execution_count": null,
      "outputs": []
    },
    {
      "cell_type": "code",
      "execution_count": null,
      "metadata": {
        "colab": {
          "base_uri": "https://localhost:8080/"
        },
        "id": "mYuhnt6QFRA3",
        "outputId": "f6ba4f12-f304-4d19-ea10-bcd385f03de9"
      },
      "outputs": [
        {
          "output_type": "execute_result",
          "data": {
            "text/plain": [
              "{'upserted_count': 215}"
            ]
          },
          "metadata": {},
          "execution_count": 3
        }
      ],
      "source": [
        "import pandas as pd\n",
        "import openai\n",
        "import pinecone\n",
        "from tqdm import tqdm\n",
        "from openai import OpenAI\n",
        "\n",
        "\n",
        "client = OpenAI(\n",
        "\n",
        ")\n",
        "\n",
        "def get_embedding(text, model=\"text-embedding-ada-002\"):\n",
        "   text = text.replace(\"\\n\", \" \")\n",
        "   return client.embeddings.create(input = [text], model=model).data[0].embedding\n",
        "\n",
        "episodes = pd.read_csv('Job_Placement_Data.csv')\n",
        "\n",
        "# Features to process\n",
        "features = ['ssc_percentage', 'ssc_board', 'hsc_percentage', 'work_experience', 'emp_test_percentage']\n",
        "label = 'status'\n",
        "\n",
        "# Convert 'work_experience' to string\n",
        "episodes['work_experience'] = episodes['work_experience'].astype(str)\n",
        "\n",
        "# Strip whitespace from string features\n",
        "string_features = ['ssc_board', 'work_experience', 'status']\n",
        "episodes[string_features] = episodes[string_features].apply(lambda x: x.str.strip())\n",
        "\n",
        "# Remove any records with null values\n",
        "episodes = episodes.dropna(subset=features + [label])\n",
        "\n",
        "# Combine text columns into a single text field for embedding\n",
        "episodes['combined_text'] = episodes[features].astype(str).agg(' '.join, axis=1)\n",
        "\n",
        "# Generate embeddings for the combined text\n",
        "episodes['embeddings'] = episodes['combined_text'].apply(lambda x: get_embedding(x))\n",
        "import pinecone\n",
        "\n",
        "# Initialize Pinecone\n",
        "from pinecone import Pinecone, ServerlessSpec\n",
        "\n",
        "pc = Pinecone(\n",
        "    api_key=\"452112a5-f4cc-45f0-a97e-0a17c17d3eb3\"\n",
        ")\n",
        "\n",
        "# Create an index if not already created\n",
        "index_name = 'garudahacks'\n",
        "# if index_name not in pc.list_indexes():\n",
        "#     pc.create_index(\n",
        "#         name=\"garudahacks\",\n",
        "#         dimension=1536,\n",
        "#         metric=\"cosine\",\n",
        "#         spec=ServerlessSpec(\n",
        "#           cloud=\"aws\",\n",
        "#           region=\"us-east-1\"\n",
        "#     ))  # Assuming 384-dimensional embeddings\n",
        "index = pc.Index(index_name)\n",
        "\n",
        "# Prepare vectors to upsert\n",
        "vectors_to_upsert = [\n",
        "    (str(i), embedding, {\"text\": text, \"label\": label})\n",
        "    for i, (embedding, text, label) in enumerate(zip(episodes['embeddings'], episodes['combined_text'], episodes['status']))\n",
        "]\n",
        "\n",
        "# for x in vectors_to_upsert:\n",
        "#   print(x)\n",
        "\n",
        "# # Upsert vectors into Pinecone\n",
        "index.upsert(vectors=vectors_to_upsert, namespace=\"jobs\")"
      ]
    }
  ]
}